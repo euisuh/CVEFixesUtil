{
 "cells": [
  {
   "cell_type": "markdown",
   "id": "14287f41-1bd2-4a6d-b971-8844b408e9f5",
   "metadata": {},
   "source": [
    "# CVEFixes by language"
   ]
  },
  {
   "cell_type": "markdown",
   "id": "68fb0410-f645-4779-ba50-22e561a5193a",
   "metadata": {},
   "source": [
    "## Retrieve dataset from HF"
   ]
  },
  {
   "cell_type": "code",
   "execution_count": 2,
   "id": "4467bbc6-732c-407e-81f6-0adc70da3385",
   "metadata": {
    "tags": []
   },
   "outputs": [
    {
     "name": "stderr",
     "output_type": "stream",
     "text": [
      "/home/local/QCRI/ejeong/anaconda2/envs/vllm/lib/python3.9/site-packages/tqdm/auto.py:21: TqdmWarning: IProgress not found. Please update jupyter and ipywidgets. See https://ipywidgets.readthedocs.io/en/stable/user_install.html\n",
      "  from .autonotebook import tqdm as notebook_tqdm\n"
     ]
    },
    {
     "data": {
      "text/plain": [
       "(2621, 14)"
      ]
     },
     "execution_count": 2,
     "metadata": {},
     "output_type": "execute_result"
    }
   ],
   "source": [
    "import pandas as pd\n",
    "from datasets import load_dataset\n",
    "import os\n",
    "\n",
    "os.environ[\"HF_HOME\"] = \"/tmp/huggingface\"\n",
    "# dataset = load_dataset(\"euisuh15/cveFixes1\")\n",
    "dataset = load_dataset(\"euisuh15/cveFixes1\", split='c')\n",
    "\n",
    "# lang option:  c | go | java | python | ruby\n",
    "# lang = \"c\"\n",
    "# df = pd.DataFrame(dataset[lang])\n",
    "df = pd.DataFrame(dataset)\n",
    "\n",
    "df.shape"
   ]
  },
  {
   "cell_type": "code",
   "execution_count": 3,
   "id": "c76f618a-d0f0-4103-b9ae-cb3df95ac0c1",
   "metadata": {
    "tags": []
   },
   "outputs": [
    {
     "data": {
      "text/html": [
       "<div>\n",
       "<style scoped>\n",
       "    .dataframe tbody tr th:only-of-type {\n",
       "        vertical-align: middle;\n",
       "    }\n",
       "\n",
       "    .dataframe tbody tr th {\n",
       "        vertical-align: top;\n",
       "    }\n",
       "\n",
       "    .dataframe thead th {\n",
       "        text-align: right;\n",
       "    }\n",
       "</style>\n",
       "<table border=\"1\" class=\"dataframe\">\n",
       "  <thead>\n",
       "    <tr style=\"text-align: right;\">\n",
       "      <th></th>\n",
       "      <th>file_name</th>\n",
       "      <th>method_name</th>\n",
       "      <th>code_before</th>\n",
       "      <th>code_after</th>\n",
       "      <th>func_before</th>\n",
       "      <th>func_after</th>\n",
       "      <th>diff</th>\n",
       "      <th>num_lines_added</th>\n",
       "      <th>num_lines_deleted</th>\n",
       "      <th>num_lines_in_file</th>\n",
       "      <th>num_tokens_in_file</th>\n",
       "      <th>repo</th>\n",
       "      <th>cve_id</th>\n",
       "      <th>cwe_id</th>\n",
       "    </tr>\n",
       "  </thead>\n",
       "  <tbody>\n",
       "    <tr>\n",
       "      <th>0</th>\n",
       "      <td>open_utils.c</td>\n",
       "      <td>read_new_config_info</td>\n",
       "      <td>//////////////////////////////////////////////...</td>\n",
       "      <td>//////////////////////////////////////////////...</td>\n",
       "      <td>static int read_new_config_info (WavpackContex...</td>\n",
       "      <td>static int read_new_config_info (WavpackContex...</td>\n",
       "      <td>{'added': [(563, '    if (bytecnt &gt;= 2) {'), (...</td>\n",
       "      <td>5.0</td>\n",
       "      <td>1.0</td>\n",
       "      <td>825.0</td>\n",
       "      <td>6305.0</td>\n",
       "      <td>https://github.com/dbry/WavPack</td>\n",
       "      <td>CVE-2016-10169</td>\n",
       "      <td>['CWE-125']</td>\n",
       "    </tr>\n",
       "    <tr>\n",
       "      <th>1</th>\n",
       "      <td>route.c</td>\n",
       "      <td>inet_rtm_getroute</td>\n",
       "      <td>/*\\n * INET\\t\\tAn implementation of the TCP/IP...</td>\n",
       "      <td>/*\\n * INET\\t\\tAn implementation of the TCP/IP...</td>\n",
       "      <td>static int inet_rtm_getroute(struct sk_buff *i...</td>\n",
       "      <td>static int inet_rtm_getroute(struct sk_buff *i...</td>\n",
       "      <td>{'added': [(2766, '\\tif (rtm-&gt;rtm_flags &amp; RTM_...</td>\n",
       "      <td>9.0</td>\n",
       "      <td>2.0</td>\n",
       "      <td>2327.0</td>\n",
       "      <td>14667.0</td>\n",
       "      <td>https://github.com/torvalds/linux</td>\n",
       "      <td>CVE-2017-13686</td>\n",
       "      <td>['CWE-476']</td>\n",
       "    </tr>\n",
       "    <tr>\n",
       "      <th>2</th>\n",
       "      <td>main.c</td>\n",
       "      <td>mp4boxMain</td>\n",
       "      <td>/*\\n *\\t\\t\\tGPAC - Multimedia Framework C SDK\\...</td>\n",
       "      <td>/*\\n *\\t\\t\\tGPAC - Multimedia Framework C SDK\\...</td>\n",
       "      <td>int mp4boxMain(int argc, char **argv)\\n{\\n\\tu3...</td>\n",
       "      <td>int mp4boxMain(int argc, char **argv)\\n{\\n\\tu3...</td>\n",
       "      <td>{'added': [(5598, '\\t\\t\\tfprintf(stderr, \"File...</td>\n",
       "      <td>1.0</td>\n",
       "      <td>1.0</td>\n",
       "      <td>5787.0</td>\n",
       "      <td>43960.0</td>\n",
       "      <td>https://github.com/gpac/gpac</td>\n",
       "      <td>CVE-2020-23930</td>\n",
       "      <td>['CWE-476']</td>\n",
       "    </tr>\n",
       "    <tr>\n",
       "      <th>3</th>\n",
       "      <td>udp.c</td>\n",
       "      <td>udpv6_sendmsg</td>\n",
       "      <td>/*\\n *\\tUDP over IPv6\\n *\\tLinux INET6 impleme...</td>\n",
       "      <td>/*\\n *\\tUDP over IPv6\\n *\\tLinux INET6 impleme...</td>\n",
       "      <td>int udpv6_sendmsg(struct sock *sk, struct msgh...</td>\n",
       "      <td>int udpv6_sendmsg(struct sock *sk, struct msgh...</td>\n",
       "      <td>{'added': [(1113, '\\tstruct ipv6_txoptions *op...</td>\n",
       "      <td>6.0</td>\n",
       "      <td>2.0</td>\n",
       "      <td>1221.0</td>\n",
       "      <td>7876.0</td>\n",
       "      <td>https://github.com/torvalds/linux</td>\n",
       "      <td>CVE-2016-3841</td>\n",
       "      <td>['CWE-264', 'CWE-416']</td>\n",
       "    </tr>\n",
       "    <tr>\n",
       "      <th>4</th>\n",
       "      <td>api.c</td>\n",
       "      <td>crypto_larval_lookup</td>\n",
       "      <td>/*\\n * Scatterlist Cryptographic API.\\n *\\n * ...</td>\n",
       "      <td>/*\\n * Scatterlist Cryptographic API.\\n *\\n * ...</td>\n",
       "      <td>struct crypto_alg *crypto_larval_lookup(const ...</td>\n",
       "      <td>struct crypto_alg *crypto_larval_lookup(const ...</td>\n",
       "      <td>{'added': [(219, '\\t\\trequest_module(\"crypto-%...</td>\n",
       "      <td>2.0</td>\n",
       "      <td>2.0</td>\n",
       "      <td>424.0</td>\n",
       "      <td>2423.0</td>\n",
       "      <td>https://github.com/torvalds/linux</td>\n",
       "      <td>CVE-2013-7421</td>\n",
       "      <td>['CWE-269']</td>\n",
       "    </tr>\n",
       "  </tbody>\n",
       "</table>\n",
       "</div>"
      ],
      "text/plain": [
       "      file_name           method_name  \\\n",
       "0  open_utils.c  read_new_config_info   \n",
       "1       route.c     inet_rtm_getroute   \n",
       "2        main.c            mp4boxMain   \n",
       "3         udp.c         udpv6_sendmsg   \n",
       "4         api.c  crypto_larval_lookup   \n",
       "\n",
       "                                         code_before  \\\n",
       "0  //////////////////////////////////////////////...   \n",
       "1  /*\\n * INET\\t\\tAn implementation of the TCP/IP...   \n",
       "2  /*\\n *\\t\\t\\tGPAC - Multimedia Framework C SDK\\...   \n",
       "3  /*\\n *\\tUDP over IPv6\\n *\\tLinux INET6 impleme...   \n",
       "4  /*\\n * Scatterlist Cryptographic API.\\n *\\n * ...   \n",
       "\n",
       "                                          code_after  \\\n",
       "0  //////////////////////////////////////////////...   \n",
       "1  /*\\n * INET\\t\\tAn implementation of the TCP/IP...   \n",
       "2  /*\\n *\\t\\t\\tGPAC - Multimedia Framework C SDK\\...   \n",
       "3  /*\\n *\\tUDP over IPv6\\n *\\tLinux INET6 impleme...   \n",
       "4  /*\\n * Scatterlist Cryptographic API.\\n *\\n * ...   \n",
       "\n",
       "                                         func_before  \\\n",
       "0  static int read_new_config_info (WavpackContex...   \n",
       "1  static int inet_rtm_getroute(struct sk_buff *i...   \n",
       "2  int mp4boxMain(int argc, char **argv)\\n{\\n\\tu3...   \n",
       "3  int udpv6_sendmsg(struct sock *sk, struct msgh...   \n",
       "4  struct crypto_alg *crypto_larval_lookup(const ...   \n",
       "\n",
       "                                          func_after  \\\n",
       "0  static int read_new_config_info (WavpackContex...   \n",
       "1  static int inet_rtm_getroute(struct sk_buff *i...   \n",
       "2  int mp4boxMain(int argc, char **argv)\\n{\\n\\tu3...   \n",
       "3  int udpv6_sendmsg(struct sock *sk, struct msgh...   \n",
       "4  struct crypto_alg *crypto_larval_lookup(const ...   \n",
       "\n",
       "                                                diff  num_lines_added  \\\n",
       "0  {'added': [(563, '    if (bytecnt >= 2) {'), (...              5.0   \n",
       "1  {'added': [(2766, '\\tif (rtm->rtm_flags & RTM_...              9.0   \n",
       "2  {'added': [(5598, '\\t\\t\\tfprintf(stderr, \"File...              1.0   \n",
       "3  {'added': [(1113, '\\tstruct ipv6_txoptions *op...              6.0   \n",
       "4  {'added': [(219, '\\t\\trequest_module(\"crypto-%...              2.0   \n",
       "\n",
       "   num_lines_deleted  num_lines_in_file  num_tokens_in_file  \\\n",
       "0                1.0              825.0              6305.0   \n",
       "1                2.0             2327.0             14667.0   \n",
       "2                1.0             5787.0             43960.0   \n",
       "3                2.0             1221.0              7876.0   \n",
       "4                2.0              424.0              2423.0   \n",
       "\n",
       "                                repo          cve_id                  cwe_id  \n",
       "0    https://github.com/dbry/WavPack  CVE-2016-10169             ['CWE-125']  \n",
       "1  https://github.com/torvalds/linux  CVE-2017-13686             ['CWE-476']  \n",
       "2       https://github.com/gpac/gpac  CVE-2020-23930             ['CWE-476']  \n",
       "3  https://github.com/torvalds/linux   CVE-2016-3841  ['CWE-264', 'CWE-416']  \n",
       "4  https://github.com/torvalds/linux   CVE-2013-7421             ['CWE-269']  "
      ]
     },
     "execution_count": 3,
     "metadata": {},
     "output_type": "execute_result"
    }
   ],
   "source": [
    "df.head()"
   ]
  },
  {
   "cell_type": "code",
   "execution_count": 4,
   "id": "19b40cd4-6133-4105-a8d5-2128b4e4e374",
   "metadata": {},
   "outputs": [],
   "source": [
    "df.to_csv('vul7.csv')"
   ]
  }
 ],
 "metadata": {
  "kernelspec": {
   "display_name": "Python 3 (ipykernel)",
   "language": "python",
   "name": "python3"
  },
  "language_info": {
   "codemirror_mode": {
    "name": "ipython",
    "version": 3
   },
   "file_extension": ".py",
   "mimetype": "text/x-python",
   "name": "python",
   "nbconvert_exporter": "python",
   "pygments_lexer": "ipython3",
   "version": "3.9.19"
  }
 },
 "nbformat": 4,
 "nbformat_minor": 5
}
